{
  "nbformat": 4,
  "nbformat_minor": 0,
  "metadata": {
    "colab": {
      "name": "CS_BW2_Interview_Code_Challenges.ipynb",
      "provenance": [],
      "collapsed_sections": [],
      "authorship_tag": "ABX9TyNk8eQ2Q4e+s0Sd6EVKZgK9",
      "include_colab_link": true
    },
    "kernelspec": {
      "name": "python3",
      "display_name": "Python 3"
    }
  },
  "cells": [
    {
      "cell_type": "markdown",
      "metadata": {
        "id": "view-in-github",
        "colab_type": "text"
      },
      "source": [
        "<a href=\"https://colab.research.google.com/github/Lord-Kanzler/CS-Data-Science-Build-Week-2/blob/master/CS_BW2_Interview_Code_Challenges.ipynb\" target=\"_parent\"><img src=\"https://colab.research.google.com/assets/colab-badge.svg\" alt=\"Open In Colab\"/></a>"
      ]
    },
    {
      "cell_type": "markdown",
      "metadata": {
        "id": "pFSJZyVyWcNy",
        "colab_type": "text"
      },
      "source": [
        "\n",
        "LEET:Merge Two Sorted Lists\n"
      ]
    },
    {
      "cell_type": "code",
      "metadata": {
        "id": "P5AlPTOZK6dO",
        "colab_type": "code",
        "colab": {
          "base_uri": "https://localhost:8080/",
          "height": 34
        },
        "outputId": "53779066-b3ea-4d0a-dc7b-3fe1fdaa417b"
      },
      "source": [
        "%%timeit\n",
        "# Definition for singly-linked list.\n",
        "# class ListNode:\n",
        "#     def __init__(self, val=0, next=None):\n",
        "#         self.val = val\n",
        "#         self.next = next\n",
        "class Solution:\n",
        "    def mergeTwoLists(self, l1: ListNode, l2: ListNode) -> ListNode:\n",
        "        \n",
        "        sort = ListNode(None)\n",
        "        \n",
        "        if l1 is None:\n",
        "            return l2\n",
        "        \n",
        "        if l2 is None:\n",
        "            return l1\n",
        "        \n",
        "        if l1.val <= l2.val:\n",
        "            sort = l1\n",
        "            \n",
        "            sort.next = Solution.mergeTwoLists(self, l1.next, l2)\n",
        "            \n",
        "        else:\n",
        "            sort = l2\n",
        "            \n",
        "            sort.next = Solution.mergeTwoLists(self, l1, l2.next)\n",
        "            \n",
        "        return sort\n",
        "            \n",
        "      "
      ],
      "execution_count": 30,
      "outputs": [
        {
          "output_type": "stream",
          "text": [
            "100000 loops, best of 3: 7.99 µs per loop\n"
          ],
          "name": "stdout"
        }
      ]
    },
    {
      "cell_type": "code",
      "metadata": {
        "id": "IYAjFQQETw6U",
        "colab_type": "code",
        "colab": {
          "base_uri": "https://localhost:8080/",
          "height": 52
        },
        "outputId": "2af54a39-c156-4b60-fc07-e6f42f0d4388"
      },
      "source": [
        "%%timeit\n",
        "class Solution:\n",
        "    def mergeTwoLists(self, l1: ListNode, l2: ListNode) -> ListNode:\n",
        "        \n",
        "        start = ListNode(\"s\")\n",
        "        cur = start\n",
        "        while l1 and l2:\n",
        "            \n",
        "            if l1.val < l2.val:\n",
        "                cur.next = l1\n",
        "                l1 = l1.next\n",
        "            else:\n",
        "                cur.next = l2\n",
        "                l2 = l2.next\n",
        "                \n",
        "            cur = cur.next\n",
        "        \n",
        "        if l1:\n",
        "            cur.next = l1\n",
        "        if l2:\n",
        "            cur.next = l2\n",
        "            \n",
        "        return start.next"
      ],
      "execution_count": 31,
      "outputs": [
        {
          "output_type": "stream",
          "text": [
            "The slowest run took 5.95 times longer than the fastest. This could mean that an intermediate result is being cached.\n",
            "100000 loops, best of 3: 7.54 µs per loop\n"
          ],
          "name": "stdout"
        }
      ]
    },
    {
      "cell_type": "markdown",
      "metadata": {
        "id": "AcN7vPuEWfH1",
        "colab_type": "text"
      },
      "source": [
        "LEET:Linked List Cycle"
      ]
    },
    {
      "cell_type": "code",
      "metadata": {
        "id": "Oc4qTl9sWi3b",
        "colab_type": "code",
        "colab": {
          "base_uri": "https://localhost:8080/",
          "height": 52
        },
        "outputId": "1c0a7ae1-9e92-4d27-b8fa-46fad4c1e17e"
      },
      "source": [
        "%%timeit\n",
        "# Definition for singly-linked list.\n",
        "# class ListNode:\n",
        "#     def __init__(self, x):\n",
        "#         self.val = x\n",
        "#         self.next = None\n",
        "\n",
        "class Solution:\n",
        "    def hasCycle(self, head: ListNode) -> bool:\n",
        "        \n",
        "        if not head:\n",
        "            return False\n",
        "        \n",
        "        slow = head\n",
        "        fast = head.next\n",
        "        \n",
        "        while fast and slow:\n",
        "\n",
        "            if fast == slow:\n",
        "                return True\n",
        "            \n",
        "            if fast.next:\n",
        "                fast = fast.next.next\n",
        "                slow = slow.next\n",
        "                \n",
        "            else:\n",
        "                break\n",
        "            \n",
        "        return False"
      ],
      "execution_count": 32,
      "outputs": [
        {
          "output_type": "stream",
          "text": [
            "The slowest run took 6.83 times longer than the fastest. This could mean that an intermediate result is being cached.\n",
            "100000 loops, best of 3: 7.78 µs per loop\n"
          ],
          "name": "stdout"
        }
      ]
    },
    {
      "cell_type": "markdown",
      "metadata": {
        "id": "lx1EWKaxzwto",
        "colab_type": "text"
      },
      "source": [
        "LEET:217. Contains Duplicate"
      ]
    },
    {
      "cell_type": "code",
      "metadata": {
        "id": "UgZuZbvxzvvp",
        "colab_type": "code",
        "colab": {
          "base_uri": "https://localhost:8080/",
          "height": 87
        },
        "outputId": "f6a0925e-8b61-4e5f-f666-69eeb52e451b"
      },
      "source": [
        "%%time\n",
        "%%timeit\n",
        "class Solution:\n",
        "    def containsDuplicate(self, nums) -> bool:\n",
        "        return len(nums) > len(set(nums))"
      ],
      "execution_count": 40,
      "outputs": [
        {
          "output_type": "stream",
          "text": [
            "The slowest run took 5.20 times longer than the fastest. This could mean that an intermediate result is being cached.\n",
            "100000 loops, best of 3: 7.65 µs per loop\n",
            "CPU times: user 4.37 s, sys: 501 ms, total: 4.88 s\n",
            "Wall time: 4.88 s\n"
          ],
          "name": "stdout"
        }
      ]
    },
    {
      "cell_type": "code",
      "metadata": {
        "id": "7sgeG-uy2c-a",
        "colab_type": "code",
        "colab": {
          "base_uri": "https://localhost:8080/",
          "height": 87
        },
        "outputId": "9497e1db-3ba2-4b70-ab3a-55c1ac9492f9"
      },
      "source": [
        "%%time\n",
        "%%timeit\n",
        "class Solution:\n",
        "    def containsDuplicate(self, nums) -> bool:\n",
        "        # return len(nums) > len(set(nums))\n",
        "        \n",
        "        numbers = set()\n",
        "        for num in nums:\n",
        "            if num in numbers:\n",
        "                return True\n",
        "            numbers.add(num)\n",
        "            \n",
        "        return False"
      ],
      "execution_count": 41,
      "outputs": [
        {
          "output_type": "stream",
          "text": [
            "The slowest run took 4.98 times longer than the fastest. This could mean that an intermediate result is being cached.\n",
            "100000 loops, best of 3: 7.56 µs per loop\n",
            "CPU times: user 4.45 s, sys: 538 ms, total: 4.99 s\n",
            "Wall time: 4.99 s\n"
          ],
          "name": "stdout"
        }
      ]
    },
    {
      "cell_type": "markdown",
      "metadata": {
        "id": "cX1e1xdD-sK5",
        "colab_type": "text"
      },
      "source": [
        "LEET:Add Two Numbers"
      ]
    },
    {
      "cell_type": "code",
      "metadata": {
        "id": "zuRTPeia-swV",
        "colab_type": "code",
        "colab": {
          "base_uri": "https://localhost:8080/",
          "height": 52
        },
        "outputId": "ff621dc3-4915-436a-8cb9-d06fedfe58fa"
      },
      "source": [
        "%%timeit\n",
        "# Definition for singly-linked list.\n",
        "# class ListNode:\n",
        "#     def __init__(self, val=0, next=None):\n",
        "#         self.val = val\n",
        "#         self.next = next\n",
        "\n",
        "class Solution:\n",
        "    def addTwoNumbers(self, l1: ListNode, l2: ListNode) -> ListNode:\n",
        "        \n",
        "        carry = 0\n",
        "        cur = ListNode(None)\n",
        "        temp = cur\n",
        "        \n",
        "        while l1 or l2:\n",
        "            x = l1.val if l1 else 0\n",
        "            y = l2.val if l2 else 0\n",
        "\n",
        "            total = x + y + carry\n",
        "            carry = total//10\n",
        "\n",
        "            cur.next = ListNode(total%10)\n",
        "            cur = cur.next\n",
        "\n",
        "            if l1:l1 = l1.next\n",
        "            if l2:l2 = l2.next\n",
        "    \n",
        "        if carry: \n",
        "            cur.next = ListNode(carry)\n",
        "        \n",
        "        return temp.next"
      ],
      "execution_count": 45,
      "outputs": [
        {
          "output_type": "stream",
          "text": [
            "The slowest run took 19.14 times longer than the fastest. This could mean that an intermediate result is being cached.\n",
            "100000 loops, best of 3: 7.56 µs per loop\n"
          ],
          "name": "stdout"
        }
      ]
    },
    {
      "cell_type": "markdown",
      "metadata": {
        "id": "nrdxGLGL_6yb",
        "colab_type": "text"
      },
      "source": [
        "LEET:142. Linked List Cycle II"
      ]
    },
    {
      "cell_type": "code",
      "metadata": {
        "id": "moGHru4a_7Xc",
        "colab_type": "code",
        "colab": {
          "base_uri": "https://localhost:8080/",
          "height": 52
        },
        "outputId": "88ab52e7-87de-438a-a9df-5e5d896d60ee"
      },
      "source": [
        "%%timeit\n",
        "# Definition for singly-linked list.\n",
        "# class ListNode:\n",
        "#     def __init__(self, x):\n",
        "#         self.val = x\n",
        "#         self.next = None\n",
        "\n",
        "class Solution:\n",
        "    def detectCycle(self, head: ListNode) -> ListNode:\n",
        "        \n",
        "        if not head or not head.next or not head.next.next:\n",
        "            return None\n",
        "        \n",
        "        slow = head\n",
        "        fast = head\n",
        "        \n",
        "        while fast and fast.next:\n",
        "\n",
        "            slow = slow.next\n",
        "            fast = fast.next.next\n",
        "            \n",
        "            if slow == fast:\n",
        "                break\n",
        "                \n",
        "        if slow == fast:\n",
        "            slow = head\n",
        "            while slow != fast:\n",
        "                slow = slow.next\n",
        "                fast = fast.next\n",
        "            return slow\n",
        "            \n",
        "        return None\n",
        "            "
      ],
      "execution_count": 48,
      "outputs": [
        {
          "output_type": "stream",
          "text": [
            "The slowest run took 4.89 times longer than the fastest. This could mean that an intermediate result is being cached.\n",
            "100000 loops, best of 3: 7.54 µs per loop\n"
          ],
          "name": "stdout"
        }
      ]
    },
    {
      "cell_type": "code",
      "metadata": {
        "id": "_6OzLYHJFIkD",
        "colab_type": "code",
        "colab": {
          "base_uri": "https://localhost:8080/",
          "height": 52
        },
        "outputId": "1638de28-8ac5-4cbb-8d78-4572bcbb9ca7"
      },
      "source": [
        "%%timeit\n",
        "# Definition for singly-linked list.\n",
        "# class ListNode:\n",
        "#     def __init__(self, x):\n",
        "#         self.val = x\n",
        "#         self.next = None\n",
        "\n",
        "class Solution:\n",
        "    def detectCycle(self, head: ListNode) -> ListNode:\n",
        "        \n",
        "        cache = {}\n",
        "        \n",
        "        while head:\n",
        "            \n",
        "            if head in cache:\n",
        "                return head\n",
        "            \n",
        "            cache[head] = 1\n",
        "            head = head.next\n",
        "            \n",
        "        return None"
      ],
      "execution_count": 50,
      "outputs": [
        {
          "output_type": "stream",
          "text": [
            "The slowest run took 12.72 times longer than the fastest. This could mean that an intermediate result is being cached.\n",
            "100000 loops, best of 3: 7.53 µs per loop\n"
          ],
          "name": "stdout"
        }
      ]
    },
    {
      "cell_type": "markdown",
      "metadata": {
        "id": "hoIyfR5ELSZp",
        "colab_type": "text"
      },
      "source": [
        "Hackerrank:Two Strings\n",
        "\n"
      ]
    },
    {
      "cell_type": "code",
      "metadata": {
        "id": "ocfiXcKbLSrg",
        "colab_type": "code",
        "colab": {
          "base_uri": "https://localhost:8080/",
          "height": 34
        },
        "outputId": "e42ae4ff-29db-4684-fbe1-539fad02e627"
      },
      "source": [
        "%%timeit\n",
        "\n",
        "# Complete the twoStrings function below.\n",
        "def twoStrings(s1, s2):\n",
        "    if set(s1) & set(s2):\n",
        "        return \"YES\"\n",
        "\n",
        "    else:\n",
        "        return \"NO\"\n"
      ],
      "execution_count": 4,
      "outputs": [
        {
          "output_type": "stream",
          "text": [
            "10000000 loops, best of 3: 51.7 ns per loop\n"
          ],
          "name": "stdout"
        }
      ]
    },
    {
      "cell_type": "code",
      "metadata": {
        "id": "k6azZLk8VEXH",
        "colab_type": "code",
        "colab": {
          "base_uri": "https://localhost:8080/",
          "height": 34
        },
        "outputId": "8093ed56-48a8-431e-8eea-83bf9c149706"
      },
      "source": [
        "# Dougs' implementation\n",
        "%%timeit\n",
        "def twoStrings(s1, s2):\n",
        "\n",
        "    unique = set()\n",
        "    # iterate through characters in s1\n",
        "    for char in s1:\n",
        "        # if character not in set, then add it\n",
        "        if char not in unique:\n",
        "            unique.add(char)\n",
        "    \n",
        "    # iterate through characters in s2\n",
        "    for char in s2:\n",
        "        # if its in unique, then it has a common substring\n",
        "        if char in unique:\n",
        "            return \"YES\"\n",
        "    \n",
        "    # no common substrings\n",
        "    return \"NO\""
      ],
      "execution_count": 8,
      "outputs": [
        {
          "output_type": "stream",
          "text": [
            "10000000 loops, best of 3: 53.5 ns per loop\n"
          ],
          "name": "stdout"
        }
      ]
    },
    {
      "cell_type": "markdown",
      "metadata": {
        "id": "WweIhEy4LTP-",
        "colab_type": "text"
      },
      "source": [
        "CodeSignal:possibleSums"
      ]
    },
    {
      "cell_type": "code",
      "metadata": {
        "id": "wUxZIxdHLTfg",
        "colab_type": "code",
        "colab": {
          "base_uri": "https://localhost:8080/",
          "height": 34
        },
        "outputId": "c8315aab-1add-4bfc-9a06-f42c11962d62"
      },
      "source": [
        "%%timeit\n",
        "def possibleSums(coins, quantity):\n",
        "    sums = {0}\n",
        "    \n",
        "    for c, q in zip(coins, quantity):\n",
        "        new = {}\n",
        "        for i in range(1, q+1):\n",
        "            for sum in sums:\n",
        "                tmp = sum + i * c\n",
        "                if tmp not in sums:\n",
        "                    new[tmp] = tmp\n",
        "        sums.update(new)\n",
        "    \n",
        "    return len(sums) - 1"
      ],
      "execution_count": 9,
      "outputs": [
        {
          "output_type": "stream",
          "text": [
            "10000000 loops, best of 3: 51.9 ns per loop\n"
          ],
          "name": "stdout"
        }
      ]
    },
    {
      "cell_type": "markdown",
      "metadata": {
        "id": "ZtVxQFq9LTxj",
        "colab_type": "text"
      },
      "source": [
        ""
      ]
    },
    {
      "cell_type": "code",
      "metadata": {
        "id": "jK14jHZfLT_D",
        "colab_type": "code",
        "colab": {}
      },
      "source": [
        ""
      ],
      "execution_count": null,
      "outputs": []
    },
    {
      "cell_type": "markdown",
      "metadata": {
        "id": "ey9NFQkGLUZa",
        "colab_type": "text"
      },
      "source": [
        ""
      ]
    },
    {
      "cell_type": "code",
      "metadata": {
        "id": "rmU0wJoVLU24",
        "colab_type": "code",
        "colab": {}
      },
      "source": [
        ""
      ],
      "execution_count": null,
      "outputs": []
    }
  ]
}